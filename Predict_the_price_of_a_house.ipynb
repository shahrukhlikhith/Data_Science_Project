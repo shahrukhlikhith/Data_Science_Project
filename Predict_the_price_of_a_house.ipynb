{
 "cells": [
  {
   "cell_type": "markdown",
   "id": "0d6488e1",
   "metadata": {},
   "source": [
    "# Predict the price of a house"
   ]
  },
  {
   "cell_type": "code",
   "execution_count": 1,
   "id": "cab71db9",
   "metadata": {},
   "outputs": [],
   "source": [
    "import pandas as pd\n",
    "import matplotlib.pyplot as plt\n",
    "import numpy as np\n",
    "%matplotlib inline"
   ]
  },
  {
   "cell_type": "markdown",
   "id": "88f4274f",
   "metadata": {},
   "source": [
    "## Import Datasets"
   ]
  },
  {
   "cell_type": "code",
   "execution_count": 2,
   "id": "7a87cb14",
   "metadata": {},
   "outputs": [],
   "source": [
    "house_sales = pd.read_excel('DS - Assignment Part 1 data set.xlsx')"
   ]
  },
  {
   "cell_type": "code",
   "execution_count": 3,
   "id": "fbc287c6",
   "metadata": {},
   "outputs": [
    {
     "data": {
      "text/html": [
       "<div>\n",
       "<style scoped>\n",
       "    .dataframe tbody tr th:only-of-type {\n",
       "        vertical-align: middle;\n",
       "    }\n",
       "\n",
       "    .dataframe tbody tr th {\n",
       "        vertical-align: top;\n",
       "    }\n",
       "\n",
       "    .dataframe thead th {\n",
       "        text-align: right;\n",
       "    }\n",
       "</style>\n",
       "<table border=\"1\" class=\"dataframe\">\n",
       "  <thead>\n",
       "    <tr style=\"text-align: right;\">\n",
       "      <th></th>\n",
       "      <th>Transaction date</th>\n",
       "      <th>House Age</th>\n",
       "      <th>Distance from nearest Metro station (km)</th>\n",
       "      <th>Number of convenience stores</th>\n",
       "      <th>latitude</th>\n",
       "      <th>longitude</th>\n",
       "      <th>Number of bedrooms</th>\n",
       "      <th>House size (sqft)</th>\n",
       "      <th>House price of unit area</th>\n",
       "    </tr>\n",
       "  </thead>\n",
       "  <tbody>\n",
       "    <tr>\n",
       "      <th>0</th>\n",
       "      <td>2012.916667</td>\n",
       "      <td>32.0</td>\n",
       "      <td>84.87882</td>\n",
       "      <td>10</td>\n",
       "      <td>24.98298</td>\n",
       "      <td>121.54024</td>\n",
       "      <td>1</td>\n",
       "      <td>575</td>\n",
       "      <td>37.9</td>\n",
       "    </tr>\n",
       "    <tr>\n",
       "      <th>1</th>\n",
       "      <td>2012.916667</td>\n",
       "      <td>19.5</td>\n",
       "      <td>306.59470</td>\n",
       "      <td>9</td>\n",
       "      <td>24.98034</td>\n",
       "      <td>121.53951</td>\n",
       "      <td>2</td>\n",
       "      <td>1240</td>\n",
       "      <td>42.2</td>\n",
       "    </tr>\n",
       "    <tr>\n",
       "      <th>2</th>\n",
       "      <td>2013.583333</td>\n",
       "      <td>13.3</td>\n",
       "      <td>561.98450</td>\n",
       "      <td>5</td>\n",
       "      <td>24.98746</td>\n",
       "      <td>121.54391</td>\n",
       "      <td>3</td>\n",
       "      <td>1060</td>\n",
       "      <td>47.3</td>\n",
       "    </tr>\n",
       "    <tr>\n",
       "      <th>3</th>\n",
       "      <td>2013.500000</td>\n",
       "      <td>13.3</td>\n",
       "      <td>561.98450</td>\n",
       "      <td>5</td>\n",
       "      <td>24.98746</td>\n",
       "      <td>121.54391</td>\n",
       "      <td>2</td>\n",
       "      <td>875</td>\n",
       "      <td>54.8</td>\n",
       "    </tr>\n",
       "    <tr>\n",
       "      <th>4</th>\n",
       "      <td>2012.833333</td>\n",
       "      <td>5.0</td>\n",
       "      <td>390.56840</td>\n",
       "      <td>5</td>\n",
       "      <td>24.97937</td>\n",
       "      <td>121.54245</td>\n",
       "      <td>1</td>\n",
       "      <td>491</td>\n",
       "      <td>43.1</td>\n",
       "    </tr>\n",
       "  </tbody>\n",
       "</table>\n",
       "</div>"
      ],
      "text/plain": [
       "   Transaction date  House Age  Distance from nearest Metro station (km)  \\\n",
       "0       2012.916667       32.0                                  84.87882   \n",
       "1       2012.916667       19.5                                 306.59470   \n",
       "2       2013.583333       13.3                                 561.98450   \n",
       "3       2013.500000       13.3                                 561.98450   \n",
       "4       2012.833333        5.0                                 390.56840   \n",
       "\n",
       "   Number of convenience stores  latitude  longitude  Number of bedrooms  \\\n",
       "0                            10  24.98298  121.54024                   1   \n",
       "1                             9  24.98034  121.53951                   2   \n",
       "2                             5  24.98746  121.54391                   3   \n",
       "3                             5  24.98746  121.54391                   2   \n",
       "4                             5  24.97937  121.54245                   1   \n",
       "\n",
       "   House size (sqft)  House price of unit area  \n",
       "0                575                      37.9  \n",
       "1               1240                      42.2  \n",
       "2               1060                      47.3  \n",
       "3                875                      54.8  \n",
       "4                491                      43.1  "
      ]
     },
     "execution_count": 3,
     "metadata": {},
     "output_type": "execute_result"
    }
   ],
   "source": [
    "house_sales.head()"
   ]
  },
  {
   "cell_type": "code",
   "execution_count": 4,
   "id": "e63017cd",
   "metadata": {},
   "outputs": [
    {
     "data": {
      "text/plain": [
       "Transaction date                            float64\n",
       "House Age                                   float64\n",
       "Distance from nearest Metro station (km)    float64\n",
       "Number of convenience stores                  int64\n",
       "latitude                                    float64\n",
       "longitude                                   float64\n",
       "Number of bedrooms                            int64\n",
       "House size (sqft)                             int64\n",
       "House price of unit area                    float64\n",
       "dtype: object"
      ]
     },
     "execution_count": 4,
     "metadata": {},
     "output_type": "execute_result"
    }
   ],
   "source": [
    "# To know what type of datatypes are used in this dataframe.\n",
    "house_sales.dtypes"
   ]
  },
  {
   "cell_type": "markdown",
   "id": "46a47aa1",
   "metadata": {},
   "source": [
    "## Data Wrangling"
   ]
  },
  {
   "cell_type": "markdown",
   "id": "66a4d3d2",
   "metadata": {},
   "source": [
    "Converting <code>'Transaction Date' </code> into a proper date"
   ]
  },
  {
   "cell_type": "code",
   "execution_count": 5,
   "id": "70dc06fe",
   "metadata": {},
   "outputs": [],
   "source": [
    "def proper_date(date):\n",
    "    date = str(date)\n",
    "    year,frac = date.split('.')\n",
    "    y = '0.'+frac\n",
    "    mon_dict = {'0.0': 'January',\n",
    "                '0.0833333': 'Febuarary',\n",
    "                '0.1666667': 'March',\n",
    "                '0.25': 'April',\n",
    "                '0.3333333': 'May',\n",
    "                '0.4166667': 'June',\n",
    "                '0.5': 'July',\n",
    "                '0.5833333': 'August',\n",
    "                '0.6666667': 'September',\n",
    "                '0.75': 'October',\n",
    "                '0.8333333': 'November',\n",
    "                '0.9166667': 'December'}\n",
    "    month = mon_dict[y]\n",
    "    return month+' '+str(year)\n",
    "house_sales['Transaction date'] = house_sales['Transaction date'].apply(proper_date)"
   ]
  },
  {
   "cell_type": "code",
   "execution_count": 6,
   "id": "7c02ebac",
   "metadata": {},
   "outputs": [
    {
     "data": {
      "text/html": [
       "<div>\n",
       "<style scoped>\n",
       "    .dataframe tbody tr th:only-of-type {\n",
       "        vertical-align: middle;\n",
       "    }\n",
       "\n",
       "    .dataframe tbody tr th {\n",
       "        vertical-align: top;\n",
       "    }\n",
       "\n",
       "    .dataframe thead th {\n",
       "        text-align: right;\n",
       "    }\n",
       "</style>\n",
       "<table border=\"1\" class=\"dataframe\">\n",
       "  <thead>\n",
       "    <tr style=\"text-align: right;\">\n",
       "      <th></th>\n",
       "      <th>Transaction date</th>\n",
       "      <th>House Age</th>\n",
       "      <th>Distance from nearest Metro station (km)</th>\n",
       "      <th>Number of convenience stores</th>\n",
       "      <th>latitude</th>\n",
       "      <th>longitude</th>\n",
       "      <th>Number of bedrooms</th>\n",
       "      <th>House size (sqft)</th>\n",
       "      <th>House price of unit area</th>\n",
       "    </tr>\n",
       "  </thead>\n",
       "  <tbody>\n",
       "    <tr>\n",
       "      <th>0</th>\n",
       "      <td>December 2012</td>\n",
       "      <td>32.0</td>\n",
       "      <td>84.87882</td>\n",
       "      <td>10</td>\n",
       "      <td>24.98298</td>\n",
       "      <td>121.54024</td>\n",
       "      <td>1</td>\n",
       "      <td>575</td>\n",
       "      <td>37.9</td>\n",
       "    </tr>\n",
       "    <tr>\n",
       "      <th>1</th>\n",
       "      <td>December 2012</td>\n",
       "      <td>19.5</td>\n",
       "      <td>306.59470</td>\n",
       "      <td>9</td>\n",
       "      <td>24.98034</td>\n",
       "      <td>121.53951</td>\n",
       "      <td>2</td>\n",
       "      <td>1240</td>\n",
       "      <td>42.2</td>\n",
       "    </tr>\n",
       "    <tr>\n",
       "      <th>2</th>\n",
       "      <td>August 2013</td>\n",
       "      <td>13.3</td>\n",
       "      <td>561.98450</td>\n",
       "      <td>5</td>\n",
       "      <td>24.98746</td>\n",
       "      <td>121.54391</td>\n",
       "      <td>3</td>\n",
       "      <td>1060</td>\n",
       "      <td>47.3</td>\n",
       "    </tr>\n",
       "    <tr>\n",
       "      <th>3</th>\n",
       "      <td>July 2013</td>\n",
       "      <td>13.3</td>\n",
       "      <td>561.98450</td>\n",
       "      <td>5</td>\n",
       "      <td>24.98746</td>\n",
       "      <td>121.54391</td>\n",
       "      <td>2</td>\n",
       "      <td>875</td>\n",
       "      <td>54.8</td>\n",
       "    </tr>\n",
       "    <tr>\n",
       "      <th>4</th>\n",
       "      <td>November 2012</td>\n",
       "      <td>5.0</td>\n",
       "      <td>390.56840</td>\n",
       "      <td>5</td>\n",
       "      <td>24.97937</td>\n",
       "      <td>121.54245</td>\n",
       "      <td>1</td>\n",
       "      <td>491</td>\n",
       "      <td>43.1</td>\n",
       "    </tr>\n",
       "  </tbody>\n",
       "</table>\n",
       "</div>"
      ],
      "text/plain": [
       "  Transaction date  House Age  Distance from nearest Metro station (km)  \\\n",
       "0    December 2012       32.0                                  84.87882   \n",
       "1    December 2012       19.5                                 306.59470   \n",
       "2      August 2013       13.3                                 561.98450   \n",
       "3        July 2013       13.3                                 561.98450   \n",
       "4    November 2012        5.0                                 390.56840   \n",
       "\n",
       "   Number of convenience stores  latitude  longitude  Number of bedrooms  \\\n",
       "0                            10  24.98298  121.54024                   1   \n",
       "1                             9  24.98034  121.53951                   2   \n",
       "2                             5  24.98746  121.54391                   3   \n",
       "3                             5  24.98746  121.54391                   2   \n",
       "4                             5  24.97937  121.54245                   1   \n",
       "\n",
       "   House size (sqft)  House price of unit area  \n",
       "0                575                      37.9  \n",
       "1               1240                      42.2  \n",
       "2               1060                      47.3  \n",
       "3                875                      54.8  \n",
       "4                491                      43.1  "
      ]
     },
     "execution_count": 6,
     "metadata": {},
     "output_type": "execute_result"
    }
   ],
   "source": [
    "# updated dataframe would look like\n",
    "house_sales.head()"
   ]
  },
  {
   "cell_type": "code",
   "execution_count": 7,
   "id": "4006ffa8",
   "metadata": {},
   "outputs": [
    {
     "data": {
      "text/plain": [
       "Transaction date                            0\n",
       "House Age                                   0\n",
       "Distance from nearest Metro station (km)    0\n",
       "Number of convenience stores                0\n",
       "latitude                                    0\n",
       "longitude                                   0\n",
       "Number of bedrooms                          0\n",
       "House size (sqft)                           0\n",
       "House price of unit area                    0\n",
       "dtype: int64"
      ]
     },
     "execution_count": 7,
     "metadata": {},
     "output_type": "execute_result"
    }
   ],
   "source": [
    "# checking if there is any null values\n",
    "house_sales.isnull().sum()"
   ]
  },
  {
   "cell_type": "code",
   "execution_count": 8,
   "id": "e1c4e0fc",
   "metadata": {},
   "outputs": [
    {
     "data": {
      "text/html": [
       "<div>\n",
       "<style scoped>\n",
       "    .dataframe tbody tr th:only-of-type {\n",
       "        vertical-align: middle;\n",
       "    }\n",
       "\n",
       "    .dataframe tbody tr th {\n",
       "        vertical-align: top;\n",
       "    }\n",
       "\n",
       "    .dataframe thead th {\n",
       "        text-align: right;\n",
       "    }\n",
       "</style>\n",
       "<table border=\"1\" class=\"dataframe\">\n",
       "  <thead>\n",
       "    <tr style=\"text-align: right;\">\n",
       "      <th></th>\n",
       "      <th>House Age</th>\n",
       "      <th>Distance from nearest Metro station (km)</th>\n",
       "      <th>Number of convenience stores</th>\n",
       "      <th>latitude</th>\n",
       "      <th>longitude</th>\n",
       "      <th>Number of bedrooms</th>\n",
       "      <th>House size (sqft)</th>\n",
       "      <th>House price of unit area</th>\n",
       "    </tr>\n",
       "  </thead>\n",
       "  <tbody>\n",
       "    <tr>\n",
       "      <th>count</th>\n",
       "      <td>414.000000</td>\n",
       "      <td>414.000000</td>\n",
       "      <td>414.000000</td>\n",
       "      <td>414.000000</td>\n",
       "      <td>414.000000</td>\n",
       "      <td>414.000000</td>\n",
       "      <td>414.000000</td>\n",
       "      <td>414.000000</td>\n",
       "    </tr>\n",
       "    <tr>\n",
       "      <th>mean</th>\n",
       "      <td>17.712560</td>\n",
       "      <td>1083.885689</td>\n",
       "      <td>4.094203</td>\n",
       "      <td>24.969030</td>\n",
       "      <td>121.533361</td>\n",
       "      <td>1.987923</td>\n",
       "      <td>931.475845</td>\n",
       "      <td>37.980193</td>\n",
       "    </tr>\n",
       "    <tr>\n",
       "      <th>std</th>\n",
       "      <td>11.392485</td>\n",
       "      <td>1262.109595</td>\n",
       "      <td>2.945562</td>\n",
       "      <td>0.012410</td>\n",
       "      <td>0.015347</td>\n",
       "      <td>0.818875</td>\n",
       "      <td>348.910269</td>\n",
       "      <td>13.606488</td>\n",
       "    </tr>\n",
       "    <tr>\n",
       "      <th>min</th>\n",
       "      <td>0.000000</td>\n",
       "      <td>23.382840</td>\n",
       "      <td>0.000000</td>\n",
       "      <td>24.932070</td>\n",
       "      <td>121.473530</td>\n",
       "      <td>1.000000</td>\n",
       "      <td>402.000000</td>\n",
       "      <td>7.600000</td>\n",
       "    </tr>\n",
       "    <tr>\n",
       "      <th>25%</th>\n",
       "      <td>9.025000</td>\n",
       "      <td>289.324800</td>\n",
       "      <td>1.000000</td>\n",
       "      <td>24.963000</td>\n",
       "      <td>121.528085</td>\n",
       "      <td>1.000000</td>\n",
       "      <td>548.000000</td>\n",
       "      <td>27.700000</td>\n",
       "    </tr>\n",
       "    <tr>\n",
       "      <th>50%</th>\n",
       "      <td>16.100000</td>\n",
       "      <td>492.231300</td>\n",
       "      <td>4.000000</td>\n",
       "      <td>24.971100</td>\n",
       "      <td>121.538630</td>\n",
       "      <td>2.000000</td>\n",
       "      <td>975.000000</td>\n",
       "      <td>38.450000</td>\n",
       "    </tr>\n",
       "    <tr>\n",
       "      <th>75%</th>\n",
       "      <td>28.150000</td>\n",
       "      <td>1454.279000</td>\n",
       "      <td>6.000000</td>\n",
       "      <td>24.977455</td>\n",
       "      <td>121.543305</td>\n",
       "      <td>3.000000</td>\n",
       "      <td>1234.750000</td>\n",
       "      <td>46.600000</td>\n",
       "    </tr>\n",
       "    <tr>\n",
       "      <th>max</th>\n",
       "      <td>43.800000</td>\n",
       "      <td>6488.021000</td>\n",
       "      <td>10.000000</td>\n",
       "      <td>25.014590</td>\n",
       "      <td>121.566270</td>\n",
       "      <td>3.000000</td>\n",
       "      <td>1500.000000</td>\n",
       "      <td>117.500000</td>\n",
       "    </tr>\n",
       "  </tbody>\n",
       "</table>\n",
       "</div>"
      ],
      "text/plain": [
       "        House Age  Distance from nearest Metro station (km)  \\\n",
       "count  414.000000                                414.000000   \n",
       "mean    17.712560                               1083.885689   \n",
       "std     11.392485                               1262.109595   \n",
       "min      0.000000                                 23.382840   \n",
       "25%      9.025000                                289.324800   \n",
       "50%     16.100000                                492.231300   \n",
       "75%     28.150000                               1454.279000   \n",
       "max     43.800000                               6488.021000   \n",
       "\n",
       "       Number of convenience stores    latitude   longitude  \\\n",
       "count                    414.000000  414.000000  414.000000   \n",
       "mean                       4.094203   24.969030  121.533361   \n",
       "std                        2.945562    0.012410    0.015347   \n",
       "min                        0.000000   24.932070  121.473530   \n",
       "25%                        1.000000   24.963000  121.528085   \n",
       "50%                        4.000000   24.971100  121.538630   \n",
       "75%                        6.000000   24.977455  121.543305   \n",
       "max                       10.000000   25.014590  121.566270   \n",
       "\n",
       "       Number of bedrooms  House size (sqft)  House price of unit area  \n",
       "count          414.000000         414.000000                414.000000  \n",
       "mean             1.987923         931.475845                 37.980193  \n",
       "std              0.818875         348.910269                 13.606488  \n",
       "min              1.000000         402.000000                  7.600000  \n",
       "25%              1.000000         548.000000                 27.700000  \n",
       "50%              2.000000         975.000000                 38.450000  \n",
       "75%              3.000000        1234.750000                 46.600000  \n",
       "max              3.000000        1500.000000                117.500000  "
      ]
     },
     "execution_count": 8,
     "metadata": {},
     "output_type": "execute_result"
    }
   ],
   "source": [
    "house_sales.describe()"
   ]
  },
  {
   "cell_type": "code",
   "execution_count": 9,
   "id": "7c67e105",
   "metadata": {},
   "outputs": [],
   "source": [
    "import seaborn as sns"
   ]
  },
  {
   "cell_type": "code",
   "execution_count": 10,
   "id": "5ca735b5",
   "metadata": {},
   "outputs": [
    {
     "data": {
      "text/plain": [
       "<AxesSubplot:xlabel='House price of unit area'>"
      ]
     },
     "execution_count": 10,
     "metadata": {},
     "output_type": "execute_result"
    },
    {
     "data": {
      "image/png": "[encoded data removed]",
      "text/plain": [
       "<Figure size 432x288 with 1 Axes>"
      ]
     },
     "metadata": {
      "needs_background": "light"
     },
     "output_type": "display_data"
    }
   ],
   "source": [
    "# checking if there are any outliers in the price\n",
    "sns.boxplot(x = house_sales['House price of unit area'])"
   ]
  },
  {
   "cell_type": "markdown",
   "id": "bf795f64",
   "metadata": {},
   "source": [
    "As we can see that there are outlier in the <code>'House price of unit area'</code> column"
   ]
  },
  {
   "cell_type": "code",
   "execution_count": 11,
   "id": "fe5a2c38",
   "metadata": {},
   "outputs": [],
   "source": [
    "q1 = house_sales['House price of unit area'].quantile(0.25)\n",
    "q3 = house_sales['House price of unit area'].quantile(0.75)\n",
    "inter_quantile_range = q3-q1\n",
    "upper_limit = q3 + 1.5*inter_quantile_range\n",
    "lower_limit = q1 - 1.5*inter_quantile_range"
   ]
  },
  {
   "cell_type": "markdown",
   "id": "547ace99",
   "metadata": {},
   "source": [
    "Writing a function for outlier to replace with the upper limit value."
   ]
  },
  {
   "cell_type": "code",
   "execution_count": 12,
   "id": "b9c1ea34",
   "metadata": {},
   "outputs": [],
   "source": [
    "def limiter_value(value):\n",
    "    if value > upper_limit:\n",
    "        return upper_limit\n",
    "    elif value < lower_limit:\n",
    "        return lower_limit\n",
    "    else:\n",
    "        return value"
   ]
  },
  {
   "cell_type": "code",
   "execution_count": 13,
   "id": "8fbc7cd3",
   "metadata": {},
   "outputs": [],
   "source": [
    "house_sales['House price of unit area'] = house_sales['House price of unit area'].apply(limiter_value)"
   ]
  },
  {
   "cell_type": "markdown",
   "id": "b26c469c",
   "metadata": {},
   "source": [
    "Histogram"
   ]
  },
  {
   "cell_type": "code",
   "execution_count": 14,
   "id": "766d411f",
   "metadata": {},
   "outputs": [
    {
     "data": {
      "image/png": "[encoded data removed]",
      "text/plain": [
       "<Figure size 432x288 with 1 Axes>"
      ]
     },
     "metadata": {
      "needs_background": "light"
     },
     "output_type": "display_data"
    }
   ],
   "source": [
    "plt.hist(house_sales['House price of unit area'], bins = 10)\n",
    "plt.show()"
   ]
  },
  {
   "cell_type": "code",
   "execution_count": 15,
   "id": "7343c661",
   "metadata": {},
   "outputs": [
    {
     "data": {
      "text/plain": [
       "<AxesSubplot:>"
      ]
     },
     "execution_count": 15,
     "metadata": {},
     "output_type": "execute_result"
    },
    {
     "data": {
      "image/png": "[encoded data removed]",
      "text/plain": [
       "<Figure size 432x288 with 2 Axes>"
      ]
     },
     "metadata": {
      "needs_background": "light"
     },
     "output_type": "display_data"
    }
   ],
   "source": [
    "# we remove transaction column\n",
    "new_table = house_sales.drop(columns = ['Transaction date'])\n",
    "sns.heatmap(new_table.corr(numeric_only = False),annot=True)"
   ]
  },
  {
   "cell_type": "markdown",
   "id": "65260458",
   "metadata": {},
   "source": [
    "From the correlation we can say that <code>'House price of the unit area'</code> area mostly depends on <code>'Distance nearest Metro Station'</code> and <code>'Number of convenience stores'</code>"
   ]
  },
  {
   "cell_type": "markdown",
   "id": "39297eda",
   "metadata": {},
   "source": [
    "## Model Development"
   ]
  },
  {
   "cell_type": "markdown",
   "id": "34864a2b",
   "metadata": {},
   "source": [
    "To predict the <code>'House price of the unit area'</code> using the list of features:"
   ]
  },
  {
   "cell_type": "code",
   "execution_count": 16,
   "id": "a13a1103",
   "metadata": {},
   "outputs": [],
   "source": [
    "features = ['House Age','Distance from nearest Metro station (km)','Number of convenience stores','latitude','longitude']"
   ]
  },
  {
   "cell_type": "code",
   "execution_count": 17,
   "id": "0a0cf9c1",
   "metadata": {},
   "outputs": [],
   "source": [
    "X = new_table[features]\n",
    "y = new_table['House price of unit area']"
   ]
  },
  {
   "cell_type": "markdown",
   "id": "fbff3c84",
   "metadata": {},
   "source": [
    "### Normalize data"
   ]
  },
  {
   "cell_type": "markdown",
   "id": "f955a475",
   "metadata": {},
   "source": [
    "Data Standardization give data zero mean and unit variance"
   ]
  },
  {
   "cell_type": "code",
   "execution_count": 18,
   "id": "4b5b09df",
   "metadata": {},
   "outputs": [],
   "source": [
    "from sklearn import preprocessing\n",
    "X = preprocessing.StandardScaler().fit_transform(X)"
   ]
  },
  {
   "cell_type": "code",
   "execution_count": 19,
   "id": "b4f06c61",
   "metadata": {},
   "outputs": [
    {
     "name": "stdout",
     "output_type": "stream",
     "text": [
      "number of test samples: 83\n",
      "number of training samples: 331\n"
     ]
    }
   ],
   "source": [
    "# We split the X into train and test to find the best k\n",
    "from sklearn.model_selection import train_test_split\n",
    "X_train, X_test, y_train, y_test = train_test_split(X, y, test_size=0.2, random_state=4)\n",
    "print(\"number of test samples:\", X_test.shape[0])\n",
    "print(\"number of training samples:\",X_train.shape[0])"
   ]
  },
  {
   "cell_type": "markdown",
   "id": "7c3f5b90",
   "metadata": {},
   "source": [
    "## Linear Regression"
   ]
  },
  {
   "cell_type": "code",
   "execution_count": 20,
   "id": "78cbe4b0",
   "metadata": {},
   "outputs": [],
   "source": [
    "from sklearn.linear_model import LinearRegression\n",
    "lr = LinearRegression()\n",
    "lr.fit(X_train, y_train)\n",
    "lr_pred = lr.predict(X_test)"
   ]
  },
  {
   "cell_type": "code",
   "execution_count": 21,
   "id": "20b8a512",
   "metadata": {},
   "outputs": [
    {
     "name": "stdout",
     "output_type": "stream",
     "text": [
      "The accuracy of the linear regression model is 55.00%\n"
     ]
    }
   ],
   "source": [
    "print(\"The accuracy of the linear regression model is {:.2f}%\".format(lr.score(X_test,y_test)*100))"
   ]
  },
  {
   "cell_type": "markdown",
   "id": "60e55cfb",
   "metadata": {},
   "source": [
    "## K Neighbors Regressor"
   ]
  },
  {
   "cell_type": "code",
   "execution_count": 22,
   "id": "ce997609",
   "metadata": {},
   "outputs": [],
   "source": [
    "from sklearn.neighbors import KNeighborsRegressor\n",
    "knr = KNeighborsRegressor().fit(X_train, y_train)\n",
    "knr_predict = knr.predict(X_test)"
   ]
  },
  {
   "cell_type": "code",
   "execution_count": 23,
   "id": "7bc9da78",
   "metadata": {},
   "outputs": [
    {
     "name": "stdout",
     "output_type": "stream",
     "text": [
      "The accuracy of the K Neighbors Regressor model is 68.73%\n"
     ]
    }
   ],
   "source": [
    "print(\"The accuracy of the K Neighbors Regressor model is {:.2f}%\".format(knr.score(X_test,y_test)*100))"
   ]
  },
  {
   "cell_type": "markdown",
   "id": "10fbd7a9",
   "metadata": {},
   "source": [
    "As we can see that the K Neighbors Regressor has more accuraccy when compared linear regression. Linear regreession model Parametric, has a lot of assumptions that needs to be met for its data in regards to its distribution. Assumes a linear relationship between the dependent and independent variables."
   ]
  },
  {
   "cell_type": "markdown",
   "id": "0f5d4b3e",
   "metadata": {},
   "source": [
    "Therefore it can be overcome by K Neighbors Regressor because non-parametric, makes no assumptions about the data/parameters in this model. No actual training step, new data is simply tagged to a majority class, based on historical data."
   ]
  },
  {
   "cell_type": "markdown",
   "id": "ce131fed",
   "metadata": {},
   "source": [
    "## Decision Tree"
   ]
  },
  {
   "cell_type": "code",
   "execution_count": 24,
   "id": "3f09bb6f",
   "metadata": {},
   "outputs": [],
   "source": [
    "from sklearn.tree import DecisionTreeRegressor\n",
    "dt = DecisionTreeRegressor().fit(X_train, y_train)\n",
    "dt_pred = dt.predict(X_test)"
   ]
  },
  {
   "cell_type": "code",
   "execution_count": 25,
   "id": "102b9f58",
   "metadata": {},
   "outputs": [
    {
     "name": "stdout",
     "output_type": "stream",
     "text": [
      "The accuracy of the decision tree model is 73.70%\n"
     ]
    }
   ],
   "source": [
    "print(\"The accuracy of the decision tree model is {:.2f}%\".format(dt.score(X_test,y_test)*100))"
   ]
  },
  {
   "cell_type": "markdown",
   "id": "d7d4bd0d",
   "metadata": {},
   "source": [
    "As we can see that the decision tree has more accuraccy when compared K Neighbors Regressor because in K Neighbors Regressor model it can't handle data with missing values unless you apply imputation process."
   ]
  },
  {
   "cell_type": "markdown",
   "id": "e9c51c7c",
   "metadata": {},
   "source": [
    "Therefore it can be overcome by decision tree because it handles missing values very well,less effort in regards to preprocessing."
   ]
  },
  {
   "cell_type": "markdown",
   "id": "f44d7fe8",
   "metadata": {},
   "source": [
    "## Random Forest"
   ]
  },
  {
   "cell_type": "code",
   "execution_count": 26,
   "id": "bcff68e1",
   "metadata": {},
   "outputs": [],
   "source": [
    "from sklearn.ensemble import RandomForestRegressor\n",
    "\n",
    "rf = RandomForestRegressor()\n",
    "rf.fit(X_train, y_train)\n",
    "rf_pred = rf.predict(X_test)"
   ]
  },
  {
   "cell_type": "code",
   "execution_count": 27,
   "id": "63238d23",
   "metadata": {
    "scrolled": true
   },
   "outputs": [
    {
     "name": "stdout",
     "output_type": "stream",
     "text": [
      "The accuracy of the Random Forest model is 76.88%\n"
     ]
    }
   ],
   "source": [
    "print(\"The accuracy of the Random Forest model is {:.2f}%\".format(rf.score(X_test,y_test)*100))"
   ]
  },
  {
   "cell_type": "markdown",
   "id": "ea9a2907",
   "metadata": {},
   "source": [
    "As we can see that the Random Forest has more accuraccy when compared decision tree because in decision tree model it cannot handle large amount of data,take more time for training-time complexity to increase as the input increases."
   ]
  },
  {
   "cell_type": "markdown",
   "id": "ccf96565",
   "metadata": {},
   "source": [
    "Therefore it can be overcome by decision tree because it performs well on imbalanced data. works well with high dimensionality and handling a large amount of data."
   ]
  },
  {
   "cell_type": "markdown",
   "id": "7adbc7c3",
   "metadata": {},
   "source": [
    "From all the models we can conclude that random forest is the best predection model for the  given data"
   ]
  },
  {
   "cell_type": "markdown",
   "id": "45f5457a",
   "metadata": {},
   "source": [
    "## Final Prediction model"
   ]
  },
  {
   "cell_type": "code",
   "execution_count": 28,
   "id": "9e35d643",
   "metadata": {},
   "outputs": [
    {
     "name": "stdout",
     "output_type": "stream",
     "text": [
      "Enter the House Age:\n",
      "17.7\n",
      "Enter the Distance from nearest Metro station (km):\n",
      "83.4\n",
      "Enter the Number of convenience stores:\n",
      "10\n",
      "Enter the latitude:\n",
      "24.969030\n",
      "Enter the longitude:\n",
      "121.533361\n",
      "Enter the House size (sqft):\n",
      "931.5\n",
      "Price of the house is 22448.22 units\n"
     ]
    }
   ],
   "source": [
    "# data given by the user\n",
    "temp_dict = {}\n",
    "for i in features:\n",
    "    print('Enter the '+i+':')\n",
    "    temp_dict[i] = [float(input())]\n",
    "print('Enter the House size (sqft):')\n",
    "house_size = float(input())\n",
    "user_data = np.array(list(temp_dict.values()))\n",
    "user_data = preprocessing.StandardScaler().fit_transform(user_data)\n",
    "user_data = user_data.transpose()\n",
    "rf_pred = rf.predict(user_data)\n",
    "price = rf_pred*house_size\n",
    "print('Price of the house is {:.2f} units'.format(price[0]))"
   ]
  }
 ],
 "metadata": {
  "kernelspec": {
   "display_name": "Python 3",
   "language": "python",
   "name": "python3"
  },
  "language_info": {
   "codemirror_mode": {
    "name": "ipython",
    "version": 3
   },
   "file_extension": ".py",
   "mimetype": "text/x-python",
   "name": "python",
   "nbconvert_exporter": "python",
   "pygments_lexer": "ipython3",
   "version": "3.8.8"
  }
 },
 "nbformat": 4,
 "nbformat_minor": 5
}
